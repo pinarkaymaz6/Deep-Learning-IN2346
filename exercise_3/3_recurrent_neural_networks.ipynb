{
 "cells": [
  {
   "cell_type": "markdown",
   "metadata": {},
   "source": [
    "Recurrent Neural Networks (RNN)\n",
    "====================\n",
    "\n",
    "In this exercise we will work with Recurrent Neural Networks (RNN). A RNN is class of neural networks where the output not only depends on the current input but also on previous inputs along a given input sequence. This allows to exhibit temporal dynamic behaviour and contextual information in a sequence. Common applications for RNN are:\n",
    "\n",
    "- time series analysis\n",
    "- speech recognition\n",
    "- machine translation\n",
    "- image captioning\n",
    "\n",
    "\n",
    "Goal of this exercise\n",
    "========\n",
    "\n",
    "This exercise notebook should help you to experiment how recurrent neural networks are implemented, trained, and used for computer vision problems. Therefore, this notebook is structured as follows:\n",
    "1. Implement your own simple RNN class in Pytorch.\n",
    "2. Explore the backpropagation of the gradients in the RNN and discuss the vanishing gradient problem.\n",
    "3. Implement your own LSTM (Long-Short Term Memory) Network and show that this architecture improves the vanishing gradient problem.\n",
    "4. Build a RNN classifier for the MNIST dataset and train your model.\n",
    "5. Tune the hyperparameters of your model and submit your best model to the server to get bonus points.\n",
    "\n"
   ]
  },
  {
   "cell_type": "code",
   "execution_count": 3,
   "metadata": {},
   "outputs": [],
   "source": [
    "import numpy as np\n",
    "import matplotlib.pyplot as plt\n",
    "import torch\n",
    "from torch.autograd import Variable\n",
    "import os\n",
    "\n",
    "device = torch.device(\"cuda:0\" if torch.cuda.is_available() else \"cpu\")\n",
    "\n",
    "%matplotlib inline\n",
    "plt.rcParams['figure.figsize'] = (10.0, 8.0) # set default size of plots\n",
    "plt.rcParams['image.interpolation'] = 'nearest'\n",
    "plt.rcParams['image.cmap'] = 'gray'\n",
    "\n",
    "# for auto-reloading external modules\n",
    "# see http://stackoverflow.com/questions/1907993/autoreload-of-modules-in-ipython\n",
    "%load_ext autoreload\n",
    "%autoreload 2"
   ]
  },
  {
   "cell_type": "code",
   "execution_count": 4,
   "metadata": {},
   "outputs": [
    {
     "name": "stdout",
     "output_type": "stream",
     "text": [
      "Using python:  3.7.1\n",
      "Using torch version:  1.1.0\n",
      "Using device:  cpu\n"
     ]
    }
   ],
   "source": [
    "import platform\n",
    "print('Using python: ', platform.python_version())\n",
    "print('Using torch version: ', torch.__version__)\n",
    "print('Using device: ', device)\n",
    "# Machine: 2015 13\" Macbook Pro, i5 dual core"
   ]
  },
  {
   "attachments": {
    "image.png": {
     "image/png": "[encoded data removed]"
    }
   },
   "cell_type": "markdown",
   "metadata": {},
   "source": [
    "## Simple Recurrent Neural Network\n",
    "\n",
    "The recurrent loops in a RNN allow relevant information to persist over time. A simple RNN architecture is shown here:\n",
    "<img src=http://colah.github.io/posts/2015-08-Understanding-LSTMs/img/RNN-rolled.png width=\"150\">\n",
    "\n",
    "A simple RNN takes not only an input X at time step t but also passes a hidden state that is the output of the previous time step into the network. The output of a RNN cell at time step t reads in Eq. 1:\n",
    "\n",
    "![image.png](attachment:image.png)\n",
    "\n",
    "In this task you have to implement a simple one-layer RNN as a class in Pytorch, where you can choose a relu or tanh activation in the cell.You can see the architecture of a simple RNN in the figure below.\n",
    "\n",
    "\n",
    "<img src=http://colah.github.io/posts/2015-08-Understanding-LSTMs/img/LSTM3-SimpleRNN.png width=\"600\">\n",
    "\n"
   ]
  },
  {
   "cell_type": "code",
   "execution_count": 5,
   "metadata": {},
   "outputs": [],
   "source": [
    "# ToDo: Implement the RNN class\n",
    "from exercise_code.rnn.rnn_nn import RNN"
   ]
  },
  {
   "cell_type": "markdown",
   "metadata": {},
   "source": [
    "Luckily, Pytorch already has implemented a simple RNN in their library and you can call the RNN with <code>nn.RNN</code>. We will use the Pytorch RNN function to check if we have built the correct cell and compare the output of both functions. We also compare the running time of both classes."
   ]
  },
  {
   "cell_type": "code",
   "execution_count": 6,
   "metadata": {},
   "outputs": [
    {
     "name": "stdout",
     "output_type": "stream",
     "text": [
      "Differnce between pytorch and your RNN implementation: 0.0\n",
      "Cool, you implemented a correct model.\n"
     ]
    }
   ],
   "source": [
    "import torch.nn as nn\n",
    "import timeit\n",
    "\n",
    "# choose your network parameters\n",
    "input_size=3\n",
    "hidden_dim=3\n",
    "seq_len= 10 \n",
    "\n",
    "# define the two models\n",
    "pytorch_rnn=nn.RNN(input_size, hidden_dim)\n",
    "i2dl_rnn=RNN(input_size, hidden_dim)\n",
    "\n",
    "# initialise both rnn with same values\n",
    "for p in pytorch_rnn.parameters():\n",
    "    nn.init.constant_(p, val=0.3)\n",
    "for p in i2dl_rnn.parameters():\n",
    "    nn.init.constant_(p, val=0.3)\n",
    "\n",
    "\n",
    "X=torch.randn(seq_len, 1, input_size)\n",
    "\n",
    "output_pytorch, h_pytorch = pytorch_rnn(X)\n",
    "output_i2dl, h_i2dl = i2dl_rnn(X)\n",
    "\n",
    "# The difference of outputs should be 0!!\n",
    "diff = torch.sum((output_pytorch-output_i2dl)**2)\n",
    "print(\"Differnce between pytorch and your RNN implementation: %s\" %diff.item())\n",
    "if diff.item()<10**-10:\n",
    "    print(\"Cool, you implemented a correct model.\")\n",
    "else:\n",
    "    print(\"Upps! There is something wrong in your model. Try again!\")"
   ]
  },
  {
   "cell_type": "code",
   "execution_count": 7,
   "metadata": {},
   "outputs": [
    {
     "name": "stdout",
     "output_type": "stream",
     "text": [
      "Time Pytorch RNN 10000 runs: 3.709s\n",
      "Time I2DL RNN 10000 run: 3.768s\n"
     ]
    }
   ],
   "source": [
    "import timeit\n",
    "runs=10**4\n",
    "\n",
    "print(\"Time Pytorch RNN {} runs: {:.3f}s\".format(runs, timeit.timeit(\"pytorch_rnn(X)\", \n",
    "                                       setup=\"from __main__ import pytorch_rnn, X\", \n",
    "                                       number=runs))\n",
    "     )\n",
    "\n",
    "print(\"Time I2DL RNN {} run: {:.3f}s\".format(runs, timeit.timeit(\"i2dl_rnn(X)\", \n",
    "                                       setup=\"from __main__ import i2dl_rnn, X\", \n",
    "                                       number=runs))\n",
    "     )"
   ]
  },
  {
   "cell_type": "markdown",
   "metadata": {},
   "source": [
    "From now on we will use the Pytorch module that is faster and optimised in performance. However, it is always a good exercise to build the functions by yourself and we really advice you to do the exercise!"
   ]
  },
  {
   "cell_type": "markdown",
   "metadata": {},
   "source": [
    "## Vanishing Gradient\n",
    "\n",
    "As discussed in the lecture, the simple RNN suffers from vanishing gradients in the backpropagation. The hidden state is manipulated in every time step along the sequence and the effect of the past inputs to the final output vanishes with the distance in time. In the next cell we will explore the vanishing effect of previous inputs in the RNN."
   ]
  },
  {
   "cell_type": "code",
   "execution_count": null,
   "metadata": {},
   "outputs": [],
   "source": [
    "############################################################################\n",
    "# TODO: Define a RNN and explore the gradients on the output h_T wrt. the  #\n",
    "# input at time t and plot your result. What behaviour do you observe?     #\n",
    "# Hints:                                                                   #\n",
    "#   - use one input feature                                                #\n",
    "#   - pytorch allows backward() pass wrt. to any vector                    #\n",
    "#   - backward() can only be applied to scalars and not to output tensors  #\n",
    "#   - choose a good representation of the gradient plot                    #\n",
    "############################################################################\n",
    "pass\n",
    "############################################################################\n",
    "#                             END OF YOUR CODE                             #\n",
    "############################################################################"
   ]
  },
  {
   "cell_type": "markdown",
   "metadata": {},
   "source": [
    "\n",
    "<div class=\"alert alert-info\">\n",
    "    <h3>Note</h3>\n",
    "    <p>It can be seen that the gradient of the of the output at time t wrt. to a previous input decreases exponentially. Hence, the final output does not change significantly for changes in the previous input and hence the RNN does not have memory.</p> \n",
    "<h3>Question</h3> \n",
    "<p>In order to better understand the vanishing gradient problem, calculate the gradients \n",
    "dh_t/dV, dh_t /dW, and dh_t/dX_0 analytically for t=3 and h_0=0 using Eq. 1. This exercise might seem a little bit tedious but it is really useful. Can you explain the vanishing gradient mathematically based on your findings?</p>\n",
    "</div>"
   ]
  },
  {
   "cell_type": "markdown",
   "metadata": {},
   "source": [
    "## Long-Short Term Memory Network (LSTM)\n",
    "The vanishing gradient problem had been known for some time until Schmidhuber (1997) developed the Long-Short Term Memory Network and showed that this architecture can overcome the problem. <br> \n",
    "A LSTM is a more advanced recurrent network architecture that is able to learn long time dependencies. The architecture of a LSTM is composed of a forget, input, and output gate and the cell can remember values over arbitrary time intervals. Despite various different and exotic LSTM architectures, the standard LSTM cell is shwon in the figure below:\n",
    "\n",
    "\n",
    "<img src=http://colah.github.io/posts/2015-08-Understanding-LSTMs/img/LSTM3-chain.png width=\"600\">\n",
    "\n"
   ]
  },
  {
   "cell_type": "markdown",
   "metadata": {},
   "source": [
    "Compared to a simple RNN the LSTM cell has a hidden vector and an additional cell state vector. __What size does the cell state have?__ <br>\n",
    "The operations inside the LSTM are given as \n",
    "\n",
    "<img src=https://wikimedia.org/api/rest_v1/media/math/render/svg/2db2cba6a0d878e13932fa27ce6f3fb71ad99cf1  width=\"600\">\n",
    "where \n",
    "f_t: forget gate,  <br>\n",
    "i_t: input gate, <br>\n",
    "o_t: output gate, <br>\n",
    "h_t: hidden state vector, <br>\n",
    "c_t: cell state vector, <br>\n",
    "x_t: input vector, <br>\n",
    "t is time step, \n",
    "<br> \n",
    "<br> \n",
    "and<br> \n",
    "sigma_g: sigmoid activation <br> \n",
    "sigma_c and sigma_h: hyperbolic tangent function\n"
   ]
  },
  {
   "cell_type": "markdown",
   "metadata": {},
   "source": [
    "In the next step you should implement your own LSTM with the operations stated above."
   ]
  },
  {
   "cell_type": "code",
   "execution_count": null,
   "metadata": {},
   "outputs": [],
   "source": [
    "# ToDo: Implement the RNN class\n",
    "from exercise_code.rnn.rnn_nn import LSTM"
   ]
  },
  {
   "cell_type": "code",
   "execution_count": null,
   "metadata": {},
   "outputs": [],
   "source": [
    "\n",
    "# choose your input parameters\n",
    "input_size=3\n",
    "hidden_dim=3\n",
    "seq_len= 10 \n",
    "\n",
    "# define the two models\n",
    "pytorch_lstm=nn.LSTM(input_size, hidden_dim)\n",
    "i2dl_lstm=LSTM(input_size, hidden_dim)\n",
    "\n",
    "# initialise both lstms with same values\n",
    "for p in pytorch_lstm.parameters():\n",
    "    nn.init.constant_(p, val=0.3)\n",
    "for p in i2dl_lstm.parameters():\n",
    "    nn.init.constant_(p, val=0.3)\n",
    "    \n",
    "X=torch.randn(seq_len, 1, input_size)\n",
    "\n",
    "output_pytorch, (h_pytorch, _) = pytorch_lstm(X)\n",
    "output_i2dl , (h_i2dl, _ )= i2dl_lstm(X)\n",
    "\n",
    "# The difference of outputs should be 0!!\n",
    "diff = torch.sum((output_pytorch-output_i2dl)**2)\n",
    "print(\"Differnce between pytorch and your RNN implementation: %s\" %diff.item())\n",
    "if diff.item()<10**-10:\n",
    "    print(\"Cool, you implemented a correct model.\")\n",
    "else:\n",
    "    print(\"Upps! There is something wrong in your model. Try again!\")"
   ]
  },
  {
   "cell_type": "code",
   "execution_count": null,
   "metadata": {},
   "outputs": [],
   "source": [
    "import timeit\n",
    "runs=10**4\n",
    "\n",
    "print(\"Time Pytorch LSTM {} runs: {:.3f}s\".format(runs, timeit.timeit(\"pytorch_lstm(X)\", \n",
    "                                       setup=\"from __main__ import pytorch_lstm, X\", \n",
    "                                       number=runs))\n",
    "     )\n",
    "\n",
    "print(\"Time I2DL LSTM {} run: {:.3f}s\".format(runs, timeit.timeit(\"i2dl_lstm(X)\", \n",
    "                                       setup=\"from __main__ import i2dl_lstm, X\", \n",
    "                                       number=runs))\n",
    "     )"
   ]
  },
  {
   "cell_type": "markdown",
   "metadata": {},
   "source": [
    "## Explore Gradients \n",
    "Analogously to the RNN, calculate the gradients of the input wrt. to the output of the LSTM and compare it against the RNN gradients. __What do you see?__\n"
   ]
  },
  {
   "cell_type": "code",
   "execution_count": null,
   "metadata": {},
   "outputs": [],
   "source": [
    "############################################################################\n",
    "# TODO: Define a RNN and LSTM and explore the gradients on the output h_T   #\n",
    "# wrt. the input at time t and plot your result.                           #\n",
    "############################################################################\n",
    "pass\n",
    "############################################################################\n",
    "#                             END OF YOUR CODE                             #\n",
    "############################################################################"
   ]
  },
  {
   "cell_type": "markdown",
   "metadata": {},
   "source": [
    "## MNIST image classification with RNNs\n",
    "\n",
    "In the previous exercises we already have classified images with a Fully Connected and Convolutional Network. In this exercise, we will solve the problem of image classification with a recurrent neural network.  \n",
    "\n",
    "For the experiment we use the MNIST handwritten digits dataset which we already know from the autoencoder exercise. This dataset consists of images of the 10 different digits (10 classes). The images have the resolution 28 x 28. The idea for the RNN classifier is to interpret the image as a sequence of rows. This means that we pass the rows through the RNN and use the final hidden state for classification. "
   ]
  },
  {
   "cell_type": "markdown",
   "metadata": {},
   "source": [
    "\n",
    "<div class=\"alert alert-info\">\n",
    "    <h3>Note</h3>\n",
    "    <p>\n",
    "    In this semester you have seen three different types of neural networks, namely Multi-Layer Perceptrons (MLPs), Convolutional Neural Networks (CNNs), and now Recurrent Neural Networks (RNNs). We have seen that we can use all three architectures for image classification. However, it turned out that some models are better than others for image classification. Try to think about advantages and disadvantages of the models, regarding # of parameters, transformations of the object in the image (scaling, rotation, translation,...), training time, testing time, over-fitting, etc."
   ]
  },
  {
   "cell_type": "code",
   "execution_count": 8,
   "metadata": {},
   "outputs": [],
   "source": [
    "# Define data loader\n",
    "from torchvision import transforms\n",
    "import pickle\n",
    "\n",
    "class Unsqueeze(object):\n",
    "    \"\"\"Adds a channel dimension that that our 2 dimensional input (H, W), \n",
    "    fits the 3 dimensional (H, W, C) expectations of pytorch's ToTensor function which\n",
    "    expects a PIL image. This is very inefficient but you most probably will use pytorch's\n",
    "    PIL image loader. Check out the documentation and make it more efficient :)\n",
    "    \"\"\"\n",
    "    def __init__(self, dimension=0):\n",
    "        self.dimension = dimension\n",
    "    def __call__(self, numpy_array):\n",
    "        extended_array = np.expand_dims(numpy_array, self.dimension)\n",
    "        return extended_array\n",
    "    def __repr__(self):\n",
    "        return self.__class__.__name__ + 'dimension={}'.format(dimension)\n",
    "\n",
    "    \n",
    "# transformation of data\n",
    "transform = transforms.Compose([\n",
    "    Unsqueeze(dimension=3),     \n",
    "    transforms.ToTensor(),\n",
    "    transforms.Normalize(mean=(0.5,), std=(0.5,))\n",
    "])\n",
    "\n",
    "\n",
    "class MnistDataset(torch.utils.data.Dataset):\n",
    "    def __init__(self, images, labels, \n",
    "                 transform=None):\n",
    "        super(MnistDataset, self).__init__()\n",
    "        self.images = images\n",
    "        self.labels = labels\n",
    "        self.transform = transform\n",
    "       \n",
    "    def __len__(self):\n",
    "        return len(self.images)\n",
    "    \n",
    "    def __getitem__(self, idx):\n",
    "        image = self.images[idx]\n",
    "        label = self.labels[idx]\n",
    "        if self.transform: \n",
    "            image = self.transform(image)\n",
    "        return image, label\n",
    "\n",
    "    \n",
    "# loading the train data\n",
    "with open(\"datasets/mnist_train.p\", \"rb\") as f:\n",
    "    mnist_raw = pickle.load(f)\n",
    "\n",
    "X, y= mnist_raw\n",
    "############################################################################\n",
    "# TODO: Set a useful training/ validation split                            #\n",
    "############################################################################    \n",
    "\n",
    "train_split = 0.9\n",
    "\n",
    "############################################################################\n",
    "#                             END OF YOUR CODE                             #\n",
    "############################################################################\n",
    "\n",
    "\n",
    "train_dset=MnistDataset(X[:int(len(X)*train_split)], y[:int(len(X)*train_split)], transform=transform)\n",
    "val_dset=MnistDataset(X[int(len(X)*train_split):], y[int(len(X)*train_split):], transform=transform)\n"
   ]
  },
  {
   "cell_type": "code",
   "execution_count": 9,
   "metadata": {},
   "outputs": [
    {
     "data": {
      "image/png": "[encoded data removed]",
      "text/plain": [
       "<Figure size 432x288 with 50 Axes>"
      ]
     },
     "metadata": {
      "needs_background": "light"
     },
     "output_type": "display_data"
    }
   ],
   "source": [
    "# Visualize some examples from the dataset. Stolen from other notebooks\n",
    "# We show a few examples of training images from each class.\n",
    "X=train_dset.images\n",
    "y=train_dset.labels\n",
    "\n",
    "\n",
    "classes = list(range(10))\n",
    "num_classes = len(classes)\n",
    "samples_per_class = 5\n",
    "for y_hat, cls in enumerate(classes):\n",
    "    idxs = np.flatnonzero(train_dset.labels == y_hat)\n",
    "    idxs = np.random.choice(idxs, samples_per_class, replace=False)\n",
    "    for i, idx in enumerate(idxs):\n",
    "        plt_idx = i * num_classes + y_hat + 1\n",
    "        plt.subplot(samples_per_class, num_classes, plt_idx)\n",
    "        plt.imshow(X[idx])\n",
    "        plt.axis('off')\n",
    "        if i == 0:\n",
    "            plt.title(cls)\n",
    "plt.show()"
   ]
  },
  {
   "cell_type": "markdown",
   "metadata": {},
   "source": [
    "Build a classifier based on a RNN where you sequentially feed the rows in the network and use the final hidden state for prediction."
   ]
  },
  {
   "cell_type": "markdown",
   "metadata": {},
   "source": [
    "<img src=https://cdn-images-1.medium.com/max/800/1*Cm_c-I02rBa1rtLZXBhNUw.png width=\"600\">\n"
   ]
  },
  {
   "cell_type": "code",
   "execution_count": 323,
   "metadata": {},
   "outputs": [],
   "source": [
    "from exercise_code.rnn.rnn_nn import LSTM_Classifier, RNN_Classifier\n",
    "model_rnn = LSTM_Classifier()\n"
   ]
  },
  {
   "cell_type": "code",
   "execution_count": 324,
   "metadata": {},
   "outputs": [],
   "source": [
    "from exercise_code.rnn.solver import Solver"
   ]
  },
  {
   "cell_type": "code",
   "execution_count": 325,
   "metadata": {
    "scrolled": false
   },
   "outputs": [
    {
     "name": "stdout",
     "output_type": "stream",
     "text": [
      "START TRAIN.\n"
     ]
    },
    {
     "name": "stderr",
     "output_type": "stream",
     "text": [
      "/Users/pinarkaymaz/anaconda3/lib/python3.7/site-packages/ipykernel_launcher.py:14: DeprecationWarning: Both axis > a.ndim and axis < -a.ndim - 1 are deprecated and will raise an AxisError in the future.\n",
      "  \n"
     ]
    },
    {
     "name": "stdout",
     "output_type": "stream",
     "text": [
      "[Iteration 50/16880] TRAIN loss: 2.204\n",
      "[Iteration 100/16880] TRAIN loss: 1.471\n",
      "[Iteration 150/16880] TRAIN loss: 0.953\n",
      "[Iteration 200/16880] TRAIN loss: 0.737\n",
      "[Iteration 250/16880] TRAIN loss: 0.534\n",
      "[Iteration 300/16880] TRAIN loss: 0.422\n",
      "[Iteration 350/16880] TRAIN loss: 0.397\n",
      "[Iteration 400/16880] TRAIN loss: 0.375\n",
      "[Iteration 450/16880] TRAIN loss: 0.349\n",
      "[Iteration 500/16880] TRAIN loss: 0.313\n",
      "[Iteration 550/16880] TRAIN loss: 0.323\n",
      "[Iteration 600/16880] TRAIN loss: 0.285\n",
      "[Iteration 650/16880] TRAIN loss: 0.231\n",
      "[Iteration 700/16880] TRAIN loss: 0.232\n",
      "[Iteration 750/16880] TRAIN loss: 0.225\n",
      "[Iteration 800/16880] TRAIN loss: 0.241\n",
      "[Iteration 850/16880] TRAIN loss: 0.204\n",
      "[Iteration 900/16880] TRAIN loss: 0.224\n",
      "[Iteration 950/16880] TRAIN loss: 0.196\n",
      "[Iteration 1000/16880] TRAIN loss: 0.174\n",
      "[Iteration 1050/16880] TRAIN loss: 0.206\n",
      "[Iteration 1100/16880] TRAIN loss: 0.177\n",
      "[Iteration 1150/16880] TRAIN loss: 0.176\n",
      "[Iteration 1200/16880] TRAIN loss: 0.162\n",
      "[Iteration 1250/16880] TRAIN loss: 0.171\n",
      "[Iteration 1300/16880] TRAIN loss: 0.151\n",
      "[Iteration 1350/16880] TRAIN loss: 0.155\n",
      "[Iteration 1400/16880] TRAIN loss: 0.136\n",
      "[Iteration 1450/16880] TRAIN loss: 0.166\n",
      "[Iteration 1500/16880] TRAIN loss: 0.148\n",
      "[Iteration 1550/16880] TRAIN loss: 0.134\n",
      "[Iteration 1600/16880] TRAIN loss: 0.148\n",
      "[Iteration 1650/16880] TRAIN loss: 0.163\n",
      "preds torch.Size([16])\n",
      "targets torch.Size([16])\n",
      "[Epoch 1/10] TRAIN acc/loss: 1.000/0.163\n",
      "[Epoch 1/10] VAL   acc/loss: 0.964/0.120\n",
      "[Iteration 1738/16880] TRAIN loss: 0.171\n",
      "[Iteration 1788/16880] TRAIN loss: 0.133\n",
      "[Iteration 1838/16880] TRAIN loss: 0.118\n",
      "[Iteration 1888/16880] TRAIN loss: 0.122\n",
      "[Iteration 1938/16880] TRAIN loss: 0.117\n",
      "[Iteration 1988/16880] TRAIN loss: 0.119\n",
      "[Iteration 2038/16880] TRAIN loss: 0.103\n",
      "[Iteration 2088/16880] TRAIN loss: 0.084\n",
      "[Iteration 2138/16880] TRAIN loss: 0.105\n",
      "[Iteration 2188/16880] TRAIN loss: 0.103\n",
      "[Iteration 2238/16880] TRAIN loss: 0.150\n",
      "[Iteration 2288/16880] TRAIN loss: 0.095\n",
      "[Iteration 2338/16880] TRAIN loss: 0.098\n",
      "[Iteration 2388/16880] TRAIN loss: 0.121\n",
      "[Iteration 2438/16880] TRAIN loss: 0.086\n",
      "[Iteration 2488/16880] TRAIN loss: 0.093\n",
      "[Iteration 2538/16880] TRAIN loss: 0.095\n",
      "[Iteration 2588/16880] TRAIN loss: 0.104\n",
      "[Iteration 2638/16880] TRAIN loss: 0.090\n",
      "[Iteration 2688/16880] TRAIN loss: 0.098\n",
      "[Iteration 2738/16880] TRAIN loss: 0.095\n",
      "[Iteration 2788/16880] TRAIN loss: 0.117\n",
      "[Iteration 2838/16880] TRAIN loss: 0.087\n",
      "[Iteration 2888/16880] TRAIN loss: 0.105\n",
      "[Iteration 2938/16880] TRAIN loss: 0.115\n",
      "[Iteration 2988/16880] TRAIN loss: 0.106\n",
      "[Iteration 3038/16880] TRAIN loss: 0.111\n",
      "[Iteration 3088/16880] TRAIN loss: 0.101\n",
      "[Iteration 3138/16880] TRAIN loss: 0.088\n",
      "[Iteration 3188/16880] TRAIN loss: 0.122\n",
      "[Iteration 3238/16880] TRAIN loss: 0.070\n",
      "[Iteration 3288/16880] TRAIN loss: 0.086\n",
      "[Iteration 3338/16880] TRAIN loss: 0.093\n",
      "preds torch.Size([16])\n",
      "targets torch.Size([16])\n",
      "[Epoch 2/10] TRAIN acc/loss: 1.000/0.093\n",
      "[Epoch 2/10] VAL   acc/loss: 0.975/0.084\n",
      "[Iteration 3426/16880] TRAIN loss: 0.061\n",
      "[Iteration 3476/16880] TRAIN loss: 0.097\n",
      "[Iteration 3526/16880] TRAIN loss: 0.066\n",
      "[Iteration 3576/16880] TRAIN loss: 0.073\n",
      "[Iteration 3626/16880] TRAIN loss: 0.087\n",
      "[Iteration 3676/16880] TRAIN loss: 0.067\n",
      "[Iteration 3726/16880] TRAIN loss: 0.060\n",
      "[Iteration 3776/16880] TRAIN loss: 0.077\n",
      "[Iteration 3826/16880] TRAIN loss: 0.080\n",
      "[Iteration 3876/16880] TRAIN loss: 0.073\n",
      "[Iteration 3926/16880] TRAIN loss: 0.065\n",
      "[Iteration 3976/16880] TRAIN loss: 0.067\n",
      "[Iteration 4026/16880] TRAIN loss: 0.071\n",
      "[Iteration 4076/16880] TRAIN loss: 0.075\n",
      "[Iteration 4126/16880] TRAIN loss: 0.075\n",
      "[Iteration 4176/16880] TRAIN loss: 0.089\n",
      "[Iteration 4226/16880] TRAIN loss: 0.096\n",
      "[Iteration 4276/16880] TRAIN loss: 0.096\n",
      "[Iteration 4326/16880] TRAIN loss: 0.078\n",
      "[Iteration 4376/16880] TRAIN loss: 0.053\n",
      "[Iteration 4426/16880] TRAIN loss: 0.059\n",
      "[Iteration 4476/16880] TRAIN loss: 0.085\n",
      "[Iteration 4526/16880] TRAIN loss: 0.076\n",
      "[Iteration 4576/16880] TRAIN loss: 0.068\n",
      "[Iteration 4626/16880] TRAIN loss: 0.076\n",
      "[Iteration 4676/16880] TRAIN loss: 0.072\n",
      "[Iteration 4726/16880] TRAIN loss: 0.072\n",
      "[Iteration 4776/16880] TRAIN loss: 0.051\n",
      "[Iteration 4826/16880] TRAIN loss: 0.065\n",
      "[Iteration 4876/16880] TRAIN loss: 0.063\n",
      "[Iteration 4926/16880] TRAIN loss: 0.074\n",
      "[Iteration 4976/16880] TRAIN loss: 0.076\n",
      "[Iteration 5026/16880] TRAIN loss: 0.050\n",
      "preds torch.Size([16])\n",
      "targets torch.Size([16])\n",
      "[Epoch 3/10] TRAIN acc/loss: 1.000/0.050\n",
      "[Epoch 3/10] VAL   acc/loss: 0.978/0.078\n",
      "[Iteration 5114/16880] TRAIN loss: 0.038\n",
      "[Iteration 5164/16880] TRAIN loss: 0.059\n",
      "[Iteration 5214/16880] TRAIN loss: 0.054\n",
      "[Iteration 5264/16880] TRAIN loss: 0.071\n",
      "[Iteration 5314/16880] TRAIN loss: 0.058\n",
      "[Iteration 5364/16880] TRAIN loss: 0.060\n",
      "[Iteration 5414/16880] TRAIN loss: 0.045\n",
      "[Iteration 5464/16880] TRAIN loss: 0.057\n",
      "[Iteration 5514/16880] TRAIN loss: 0.062\n",
      "[Iteration 5564/16880] TRAIN loss: 0.055\n",
      "[Iteration 5614/16880] TRAIN loss: 0.043\n",
      "[Iteration 5664/16880] TRAIN loss: 0.060\n",
      "[Iteration 5714/16880] TRAIN loss: 0.080\n",
      "[Iteration 5764/16880] TRAIN loss: 0.048\n",
      "[Iteration 5814/16880] TRAIN loss: 0.064\n",
      "[Iteration 5864/16880] TRAIN loss: 0.058\n",
      "[Iteration 5914/16880] TRAIN loss: 0.074\n",
      "[Iteration 5964/16880] TRAIN loss: 0.065\n",
      "[Iteration 6014/16880] TRAIN loss: 0.059\n",
      "[Iteration 6064/16880] TRAIN loss: 0.058\n",
      "[Iteration 6114/16880] TRAIN loss: 0.062\n",
      "[Iteration 6164/16880] TRAIN loss: 0.064\n",
      "[Iteration 6214/16880] TRAIN loss: 0.055\n",
      "[Iteration 6264/16880] TRAIN loss: 0.060\n",
      "[Iteration 6314/16880] TRAIN loss: 0.077\n",
      "[Iteration 6364/16880] TRAIN loss: 0.047\n",
      "[Iteration 6414/16880] TRAIN loss: 0.052\n",
      "[Iteration 6464/16880] TRAIN loss: 0.062\n",
      "[Iteration 6514/16880] TRAIN loss: 0.058\n",
      "[Iteration 6564/16880] TRAIN loss: 0.054\n",
      "[Iteration 6614/16880] TRAIN loss: 0.083\n",
      "[Iteration 6664/16880] TRAIN loss: 0.048\n",
      "[Iteration 6714/16880] TRAIN loss: 0.050\n",
      "preds torch.Size([16])\n",
      "targets torch.Size([16])\n",
      "[Epoch 4/10] TRAIN acc/loss: 1.000/0.050\n",
      "[Epoch 4/10] VAL   acc/loss: 0.983/0.059\n",
      "[Iteration 6802/16880] TRAIN loss: 0.049\n",
      "[Iteration 6852/16880] TRAIN loss: 0.035\n",
      "[Iteration 6902/16880] TRAIN loss: 0.041\n",
      "[Iteration 6952/16880] TRAIN loss: 0.040\n",
      "[Iteration 7002/16880] TRAIN loss: 0.054\n",
      "[Iteration 7052/16880] TRAIN loss: 0.055\n",
      "[Iteration 7102/16880] TRAIN loss: 0.039\n",
      "[Iteration 7152/16880] TRAIN loss: 0.041\n",
      "[Iteration 7202/16880] TRAIN loss: 0.048\n",
      "[Iteration 7252/16880] TRAIN loss: 0.061\n",
      "[Iteration 7302/16880] TRAIN loss: 0.038\n",
      "[Iteration 7352/16880] TRAIN loss: 0.030\n",
      "[Iteration 7402/16880] TRAIN loss: 0.066\n",
      "[Iteration 7452/16880] TRAIN loss: 0.047\n",
      "[Iteration 7502/16880] TRAIN loss: 0.059\n",
      "[Iteration 7552/16880] TRAIN loss: 0.054\n",
      "[Iteration 7602/16880] TRAIN loss: 0.061\n",
      "[Iteration 7652/16880] TRAIN loss: 0.051\n",
      "[Iteration 7702/16880] TRAIN loss: 0.036\n",
      "[Iteration 7752/16880] TRAIN loss: 0.042\n",
      "[Iteration 7802/16880] TRAIN loss: 0.060\n",
      "[Iteration 7852/16880] TRAIN loss: 0.043\n",
      "[Iteration 7902/16880] TRAIN loss: 0.071\n",
      "[Iteration 7952/16880] TRAIN loss: 0.042\n",
      "[Iteration 8002/16880] TRAIN loss: 0.047\n",
      "[Iteration 8052/16880] TRAIN loss: 0.071\n",
      "[Iteration 8102/16880] TRAIN loss: 0.042\n",
      "[Iteration 8152/16880] TRAIN loss: 0.037\n",
      "[Iteration 8202/16880] TRAIN loss: 0.055\n",
      "[Iteration 8252/16880] TRAIN loss: 0.052\n",
      "[Iteration 8302/16880] TRAIN loss: 0.034\n",
      "[Iteration 8352/16880] TRAIN loss: 0.033\n",
      "[Iteration 8402/16880] TRAIN loss: 0.064\n",
      "preds torch.Size([16])\n",
      "targets torch.Size([16])\n",
      "[Epoch 5/10] TRAIN acc/loss: 1.000/0.064\n",
      "[Epoch 5/10] VAL   acc/loss: 0.983/0.060\n",
      "[Iteration 8490/16880] TRAIN loss: 0.035\n",
      "[Iteration 8540/16880] TRAIN loss: 0.051\n",
      "[Iteration 8590/16880] TRAIN loss: 0.028\n",
      "[Iteration 8640/16880] TRAIN loss: 0.039\n",
      "[Iteration 8690/16880] TRAIN loss: 0.057\n",
      "[Iteration 8740/16880] TRAIN loss: 0.042\n",
      "[Iteration 8790/16880] TRAIN loss: 0.029\n",
      "[Iteration 8840/16880] TRAIN loss: 0.048\n",
      "[Iteration 8890/16880] TRAIN loss: 0.033\n",
      "[Iteration 8940/16880] TRAIN loss: 0.036\n",
      "[Iteration 8990/16880] TRAIN loss: 0.036\n",
      "[Iteration 9040/16880] TRAIN loss: 0.054\n",
      "[Iteration 9090/16880] TRAIN loss: 0.042\n",
      "[Iteration 9140/16880] TRAIN loss: 0.036\n",
      "[Iteration 9190/16880] TRAIN loss: 0.024\n",
      "[Iteration 9240/16880] TRAIN loss: 0.034\n",
      "[Iteration 9290/16880] TRAIN loss: 0.042\n",
      "[Iteration 9340/16880] TRAIN loss: 0.037\n",
      "[Iteration 9390/16880] TRAIN loss: 0.041\n",
      "[Iteration 9440/16880] TRAIN loss: 0.038\n"
     ]
    },
    {
     "name": "stdout",
     "output_type": "stream",
     "text": [
      "[Iteration 9490/16880] TRAIN loss: 0.057\n",
      "[Iteration 9540/16880] TRAIN loss: 0.047\n",
      "[Iteration 9590/16880] TRAIN loss: 0.036\n",
      "[Iteration 9640/16880] TRAIN loss: 0.052\n",
      "[Iteration 9690/16880] TRAIN loss: 0.044\n",
      "[Iteration 9740/16880] TRAIN loss: 0.056\n",
      "[Iteration 9790/16880] TRAIN loss: 0.030\n",
      "[Iteration 9840/16880] TRAIN loss: 0.035\n",
      "[Iteration 9890/16880] TRAIN loss: 0.031\n",
      "[Iteration 9940/16880] TRAIN loss: 0.040\n",
      "[Iteration 9990/16880] TRAIN loss: 0.063\n",
      "[Iteration 10040/16880] TRAIN loss: 0.049\n",
      "[Iteration 10090/16880] TRAIN loss: 0.031\n",
      "preds torch.Size([16])\n",
      "targets torch.Size([16])\n",
      "[Epoch 6/10] TRAIN acc/loss: 1.000/0.031\n",
      "[Epoch 6/10] VAL   acc/loss: 0.986/0.045\n",
      "[Iteration 10178/16880] TRAIN loss: 0.030\n",
      "[Iteration 10228/16880] TRAIN loss: 0.033\n",
      "[Iteration 10278/16880] TRAIN loss: 0.031\n",
      "[Iteration 10328/16880] TRAIN loss: 0.028\n",
      "[Iteration 10378/16880] TRAIN loss: 0.018\n",
      "[Iteration 10428/16880] TRAIN loss: 0.029\n",
      "[Iteration 10478/16880] TRAIN loss: 0.046\n",
      "[Iteration 10528/16880] TRAIN loss: 0.038\n",
      "[Iteration 10578/16880] TRAIN loss: 0.028\n",
      "[Iteration 10628/16880] TRAIN loss: 0.022\n",
      "[Iteration 10678/16880] TRAIN loss: 0.038\n",
      "[Iteration 10728/16880] TRAIN loss: 0.024\n",
      "[Iteration 10778/16880] TRAIN loss: 0.030\n",
      "[Iteration 10828/16880] TRAIN loss: 0.038\n",
      "[Iteration 10878/16880] TRAIN loss: 0.032\n",
      "[Iteration 10928/16880] TRAIN loss: 0.035\n",
      "[Iteration 10978/16880] TRAIN loss: 0.021\n",
      "[Iteration 11028/16880] TRAIN loss: 0.037\n",
      "[Iteration 11078/16880] TRAIN loss: 0.040\n",
      "[Iteration 11128/16880] TRAIN loss: 0.037\n",
      "[Iteration 11178/16880] TRAIN loss: 0.026\n",
      "[Iteration 11228/16880] TRAIN loss: 0.055\n",
      "[Iteration 11278/16880] TRAIN loss: 0.025\n",
      "[Iteration 11328/16880] TRAIN loss: 0.025\n",
      "[Iteration 11378/16880] TRAIN loss: 0.048\n",
      "[Iteration 11428/16880] TRAIN loss: 0.033\n",
      "[Iteration 11478/16880] TRAIN loss: 0.032\n",
      "[Iteration 11528/16880] TRAIN loss: 0.039\n",
      "[Iteration 11578/16880] TRAIN loss: 0.053\n",
      "[Iteration 11628/16880] TRAIN loss: 0.042\n",
      "[Iteration 11678/16880] TRAIN loss: 0.034\n",
      "[Iteration 11728/16880] TRAIN loss: 0.052\n",
      "[Iteration 11778/16880] TRAIN loss: 0.035\n",
      "preds torch.Size([16])\n",
      "targets torch.Size([16])\n",
      "[Epoch 7/10] TRAIN acc/loss: 0.938/0.035\n",
      "[Epoch 7/10] VAL   acc/loss: 0.988/0.042\n",
      "[Iteration 11866/16880] TRAIN loss: 0.028\n",
      "[Iteration 11916/16880] TRAIN loss: 0.028\n",
      "[Iteration 11966/16880] TRAIN loss: 0.014\n",
      "[Iteration 12016/16880] TRAIN loss: 0.019\n",
      "[Iteration 12066/16880] TRAIN loss: 0.039\n",
      "[Iteration 12116/16880] TRAIN loss: 0.031\n",
      "[Iteration 12166/16880] TRAIN loss: 0.035\n",
      "[Iteration 12216/16880] TRAIN loss: 0.027\n",
      "[Iteration 12266/16880] TRAIN loss: 0.037\n",
      "[Iteration 12316/16880] TRAIN loss: 0.026\n",
      "[Iteration 12366/16880] TRAIN loss: 0.036\n",
      "[Iteration 12416/16880] TRAIN loss: 0.028\n",
      "[Iteration 12466/16880] TRAIN loss: 0.027\n",
      "[Iteration 12516/16880] TRAIN loss: 0.021\n",
      "[Iteration 12566/16880] TRAIN loss: 0.038\n",
      "[Iteration 12616/16880] TRAIN loss: 0.029\n",
      "[Iteration 12666/16880] TRAIN loss: 0.042\n",
      "[Iteration 12716/16880] TRAIN loss: 0.032\n",
      "[Iteration 12766/16880] TRAIN loss: 0.024\n",
      "[Iteration 12816/16880] TRAIN loss: 0.038\n",
      "[Iteration 12866/16880] TRAIN loss: 0.044\n",
      "[Iteration 12916/16880] TRAIN loss: 0.030\n",
      "[Iteration 12966/16880] TRAIN loss: 0.039\n",
      "[Iteration 13016/16880] TRAIN loss: 0.049\n",
      "[Iteration 13066/16880] TRAIN loss: 0.052\n",
      "[Iteration 13116/16880] TRAIN loss: 0.041\n",
      "[Iteration 13166/16880] TRAIN loss: 0.033\n",
      "[Iteration 13216/16880] TRAIN loss: 0.042\n",
      "[Iteration 13266/16880] TRAIN loss: 0.040\n",
      "[Iteration 13316/16880] TRAIN loss: 0.038\n",
      "[Iteration 13366/16880] TRAIN loss: 0.042\n",
      "[Iteration 13416/16880] TRAIN loss: 0.025\n",
      "[Iteration 13466/16880] TRAIN loss: 0.029\n",
      "preds torch.Size([16])\n",
      "targets torch.Size([16])\n",
      "[Epoch 8/10] TRAIN acc/loss: 1.000/0.029\n",
      "[Epoch 8/10] VAL   acc/loss: 0.986/0.045\n",
      "[Iteration 13554/16880] TRAIN loss: 0.031\n",
      "[Iteration 13604/16880] TRAIN loss: 0.027\n",
      "[Iteration 13654/16880] TRAIN loss: 0.031\n",
      "[Iteration 13704/16880] TRAIN loss: 0.016\n",
      "[Iteration 13754/16880] TRAIN loss: 0.031\n",
      "[Iteration 13804/16880] TRAIN loss: 0.023\n",
      "[Iteration 13854/16880] TRAIN loss: 0.023\n",
      "[Iteration 13904/16880] TRAIN loss: 0.021\n",
      "[Iteration 13954/16880] TRAIN loss: 0.029\n",
      "[Iteration 14004/16880] TRAIN loss: 0.031\n",
      "[Iteration 14054/16880] TRAIN loss: 0.022\n",
      "[Iteration 14104/16880] TRAIN loss: 0.028\n",
      "[Iteration 14154/16880] TRAIN loss: 0.022\n",
      "[Iteration 14204/16880] TRAIN loss: 0.020\n",
      "[Iteration 14254/16880] TRAIN loss: 0.042\n",
      "[Iteration 14304/16880] TRAIN loss: 0.025\n",
      "[Iteration 14354/16880] TRAIN loss: 0.018\n",
      "[Iteration 14404/16880] TRAIN loss: 0.031\n",
      "[Iteration 14454/16880] TRAIN loss: 0.043\n",
      "[Iteration 14504/16880] TRAIN loss: 0.035\n",
      "[Iteration 14554/16880] TRAIN loss: 0.024\n",
      "[Iteration 14604/16880] TRAIN loss: 0.031\n",
      "[Iteration 14654/16880] TRAIN loss: 0.019\n",
      "[Iteration 14704/16880] TRAIN loss: 0.027\n",
      "[Iteration 14754/16880] TRAIN loss: 0.030\n",
      "[Iteration 14804/16880] TRAIN loss: 0.024\n",
      "[Iteration 14854/16880] TRAIN loss: 0.021\n",
      "[Iteration 14904/16880] TRAIN loss: 0.016\n",
      "[Iteration 14954/16880] TRAIN loss: 0.045\n",
      "[Iteration 15004/16880] TRAIN loss: 0.032\n",
      "[Iteration 15054/16880] TRAIN loss: 0.031\n",
      "[Iteration 15104/16880] TRAIN loss: 0.028\n",
      "[Iteration 15154/16880] TRAIN loss: 0.020\n",
      "preds torch.Size([16])\n",
      "targets torch.Size([16])\n",
      "[Epoch 9/10] TRAIN acc/loss: 1.000/0.020\n",
      "[Epoch 9/10] VAL   acc/loss: 0.988/0.041\n",
      "[Iteration 15242/16880] TRAIN loss: 0.016\n",
      "[Iteration 15292/16880] TRAIN loss: 0.009\n",
      "[Iteration 15342/16880] TRAIN loss: 0.023\n",
      "[Iteration 15392/16880] TRAIN loss: 0.011\n",
      "[Iteration 15442/16880] TRAIN loss: 0.029\n",
      "[Iteration 15492/16880] TRAIN loss: 0.018\n",
      "[Iteration 15542/16880] TRAIN loss: 0.024\n",
      "[Iteration 15592/16880] TRAIN loss: 0.021\n",
      "[Iteration 15642/16880] TRAIN loss: 0.026\n",
      "[Iteration 15692/16880] TRAIN loss: 0.032\n",
      "[Iteration 15742/16880] TRAIN loss: 0.023\n",
      "[Iteration 15792/16880] TRAIN loss: 0.010\n",
      "[Iteration 15842/16880] TRAIN loss: 0.022\n",
      "[Iteration 15892/16880] TRAIN loss: 0.027\n",
      "[Iteration 15942/16880] TRAIN loss: 0.028\n",
      "[Iteration 15992/16880] TRAIN loss: 0.019\n",
      "[Iteration 16042/16880] TRAIN loss: 0.025\n",
      "[Iteration 16092/16880] TRAIN loss: 0.037\n",
      "[Iteration 16142/16880] TRAIN loss: 0.027\n",
      "[Iteration 16192/16880] TRAIN loss: 0.014\n",
      "[Iteration 16242/16880] TRAIN loss: 0.016\n",
      "[Iteration 16292/16880] TRAIN loss: 0.017\n",
      "[Iteration 16342/16880] TRAIN loss: 0.023\n",
      "[Iteration 16392/16880] TRAIN loss: 0.038\n",
      "[Iteration 16442/16880] TRAIN loss: 0.034\n",
      "[Iteration 16492/16880] TRAIN loss: 0.021\n",
      "[Iteration 16542/16880] TRAIN loss: 0.035\n",
      "[Iteration 16592/16880] TRAIN loss: 0.025\n",
      "[Iteration 16642/16880] TRAIN loss: 0.023\n",
      "[Iteration 16692/16880] TRAIN loss: 0.028\n",
      "[Iteration 16742/16880] TRAIN loss: 0.027\n",
      "[Iteration 16792/16880] TRAIN loss: 0.030\n",
      "[Iteration 16842/16880] TRAIN loss: 0.023\n",
      "preds torch.Size([16])\n",
      "targets torch.Size([16])\n",
      "[Epoch 10/10] TRAIN acc/loss: 1.000/0.023\n",
      "[Epoch 10/10] VAL   acc/loss: 0.988/0.038\n",
      "FINISH.\n"
     ]
    }
   ],
   "source": [
    "batch_size = 32\n",
    "train_loader = torch.utils.data.DataLoader(\n",
    "                 dataset=train_dset,\n",
    "                 batch_size=batch_size,\n",
    "                 shuffle=True)\n",
    "val_loader = torch.utils.data.DataLoader(\n",
    "                dataset=val_dset,\n",
    "                batch_size=batch_size,\n",
    "                shuffle=False)\n",
    "\n",
    "solver = Solver(optim_args={\"lr\": 1e-3})\n",
    "\n",
    "# train rnn model\n",
    "solver.train(model_rnn, train_loader, val_loader, log_nth=50, num_epochs=10)"
   ]
  },
  {
   "cell_type": "markdown",
   "metadata": {},
   "source": [
    "Train your RNN classifier and try to tune the hyperparameters. With your simple RNN classifier you should exceed an accuracy higher than __90%__."
   ]
  },
  {
   "cell_type": "markdown",
   "metadata": {},
   "source": [
    "Try to improve your model by using a LSTM."
   ]
  },
  {
   "cell_type": "code",
   "execution_count": null,
   "metadata": {},
   "outputs": [],
   "source": [
    "from exercise_code.rnn.rnn_nn import LSTM_Classifier\n",
    "model= LSTM_Classifier()\n"
   ]
  },
  {
   "cell_type": "markdown",
   "metadata": {},
   "source": [
    "Train your LSTM model again and see wether it improves performance on the validation set"
   ]
  },
  {
   "cell_type": "markdown",
   "metadata": {},
   "source": [
    "# Test your Model\n",
    "When you are satisfied with your training, you can save the model. In order to be eligible for the bonus points you have to achieve a score higher than __97__."
   ]
  },
  {
   "cell_type": "markdown",
   "metadata": {},
   "source": [
    "## Save the Model\n",
    "\n",
    "When you are satisfied with your training, you can save the model."
   ]
  },
  {
   "cell_type": "code",
   "execution_count": 326,
   "metadata": {},
   "outputs": [
    {
     "name": "stdout",
     "output_type": "stream",
     "text": [
      "Saving model... models/rnn_mnist_nn.model\n"
     ]
    }
   ],
   "source": [
    "model_rnn.save(\"models/rnn_mnist_nn.model\")"
   ]
  },
  {
   "cell_type": "code",
   "execution_count": null,
   "metadata": {},
   "outputs": [],
   "source": []
  },
  {
   "cell_type": "code",
   "execution_count": null,
   "metadata": {},
   "outputs": [],
   "source": []
  }
 ],
 "metadata": {
  "kernelspec": {
   "display_name": "Python 3",
   "language": "python",
   "name": "python3"
  },
  "language_info": {
   "codemirror_mode": {
    "name": "ipython",
    "version": 3
   },
   "file_extension": ".py",
   "mimetype": "text/x-python",
   "name": "python",
   "nbconvert_exporter": "python",
   "pygments_lexer": "ipython3",
   "version": "3.7.1"
  }
 },
 "nbformat": 4,
 "nbformat_minor": 2
}
